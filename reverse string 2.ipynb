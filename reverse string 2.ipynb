{
 "cells": [
  {
   "cell_type": "code",
   "execution_count": 11,
   "id": "b38bed87",
   "metadata": {},
   "outputs": [
    {
     "name": "stdout",
     "output_type": "stream",
     "text": [
      "hello:adoydE Edyoda\n"
     ]
    }
   ],
   "source": [
    "firstname=(\"Edyoda\")\n",
    "lastname=(\"adoydE\")\n",
    "print(\"hello:\" +lastname + \" \" +firstname)"
   ]
  },
  {
   "cell_type": "code",
   "execution_count": 12,
   "id": "162aa588",
   "metadata": {},
   "outputs": [
    {
     "name": "stdout",
     "output_type": "stream",
     "text": [
      "hello:adoydE Edyoda\n"
     ]
    }
   ],
   "source": [
    "str1=(\"Edyoda\")\n",
    "str2=(\"adoydE\")\n",
    "print(\"hello:\" +str2 + \" \" +str1)"
   ]
  },
  {
   "cell_type": "code",
   "execution_count": 13,
   "id": "718f01ff",
   "metadata": {},
   "outputs": [
    {
     "name": "stdout",
     "output_type": "stream",
     "text": [
      "adoydE\n"
     ]
    }
   ],
   "source": [
    "str1=(\"Edyoda\")\n",
    "print(str1[-1 :: -1])"
   ]
  },
  {
   "cell_type": "code",
   "execution_count": null,
   "id": "b31a615f",
   "metadata": {},
   "outputs": [],
   "source": []
  },
  {
   "cell_type": "code",
   "execution_count": null,
   "id": "7de7e5fe",
   "metadata": {},
   "outputs": [],
   "source": []
  }
 ],
 "metadata": {
  "kernelspec": {
   "display_name": "Python 3 (ipykernel)",
   "language": "python",
   "name": "python3"
  },
  "language_info": {
   "codemirror_mode": {
    "name": "ipython",
    "version": 3
   },
   "file_extension": ".py",
   "mimetype": "text/x-python",
   "name": "python",
   "nbconvert_exporter": "python",
   "pygments_lexer": "ipython3",
   "version": "3.10.1"
  }
 },
 "nbformat": 4,
 "nbformat_minor": 5
}
